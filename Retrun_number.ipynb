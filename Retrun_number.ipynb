{
  "nbformat": 4,
  "nbformat_minor": 0,
  "metadata": {
    "colab": {
      "provenance": []
    },
    "kernelspec": {
      "name": "python3",
      "display_name": "Python 3"
    },
    "language_info": {
      "name": "python"
    }
  },
  "cells": [
    {
      "cell_type": "markdown",
      "source": [
        "I solved it in 10 minutes, this solution gives me an idea of ​​my Python skills and my critical thinking."
      ],
      "metadata": {
        "id": "BjKz2pWoBsY5"
      }
    },
    {
      "cell_type": "code",
      "execution_count": 1,
      "metadata": {
        "colab": {
          "base_uri": "https://localhost:8080/"
        },
        "id": "sqwSKp_tBT9H",
        "outputId": "dfb48906-45ae-46cf-a336-00f4cc3e4b80"
      },
      "outputs": [
        {
          "output_type": "stream",
          "name": "stdout",
          "text": [
            "0123453\n",
            "3543210\n"
          ]
        }
      ],
      "source": [
        "def return_string(n):\n",
        "  p=[]\n",
        "  if int(n)<0:\n",
        "    for i in n:\n",
        "        p.append(i)\n",
        "    symbol=p.pop(0)\n",
        "    n1= \"\"\n",
        "    for j in p:\n",
        "      n1+=j\n",
        "    l=len(n1)\n",
        "    r=0\n",
        "    for i in range(l):\n",
        "      r=r*10+int(n1)%10\n",
        "      n1=int(n1)//10\n",
        "    print(symbol+str(r))\n",
        "  else:\n",
        "      l=len(n)\n",
        "      r=0\n",
        "      for i in range(l):\n",
        "        r=r*10+int(n)%10\n",
        "        n=int(n)//10\n",
        "      print(r)\n",
        "\n",
        "return_string(input())"
      ]
    },
    {
      "cell_type": "code",
      "source": [
        "return_string(input())"
      ],
      "metadata": {
        "colab": {
          "base_uri": "https://localhost:8080/"
        },
        "id": "4Gh2LZzoBrKu",
        "outputId": "63826d93-22c3-4a64-f87a-222f86389664"
      },
      "execution_count": 3,
      "outputs": [
        {
          "output_type": "stream",
          "name": "stdout",
          "text": [
            "12340\n",
            "4321\n"
          ]
        }
      ]
    },
    {
      "cell_type": "code",
      "source": [
        "return_string(input())"
      ],
      "metadata": {
        "colab": {
          "base_uri": "https://localhost:8080/"
        },
        "id": "-7cQD53qCrEI",
        "outputId": "7a3c5750-192b-4c3b-db83-30289d1106c4"
      },
      "execution_count": 4,
      "outputs": [
        {
          "output_type": "stream",
          "name": "stdout",
          "text": [
            "-12345\n",
            "-54321\n"
          ]
        }
      ]
    }
  ]
}