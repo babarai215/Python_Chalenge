{
  "nbformat": 4,
  "nbformat_minor": 0,
  "metadata": {
    "colab": {
      "provenance": []
    },
    "kernelspec": {
      "name": "python3",
      "display_name": "Python 3"
    },
    "language_info": {
      "name": "python"
    }
  },
  "cells": [
    {
      "cell_type": "markdown",
      "source": [
        "## I have created a complex pattern using Python language, this pattern shows my Python and critical thinking power.\n",
        " * where  n>3 and n = odd number"
      ],
      "metadata": {
        "id": "qlfdSv00xwr0"
      }
    },
    {
      "cell_type": "code",
      "execution_count": 17,
      "metadata": {
        "colab": {
          "base_uri": "https://localhost:8080/"
        },
        "id": "4S1a1Ygpxman",
        "outputId": "7de9c78e-08f1-4342-97b2-3b8dca2e72ec"
      },
      "outputs": [
        {
          "output_type": "stream",
          "name": "stdout",
          "text": [
            "  *       * * *       * \n",
            "* * e e e * * * e e e * * \n",
            "  *       * * *       * \n"
          ]
        }
      ],
      "source": [
        "def Pattern(n):\n",
        "  for i in range(n//2+1,0,-1):\n",
        "    for j in range(i-1):\n",
        "      print(\" \",end=\" \")\n",
        "    for j in range(n//2-i+2):\n",
        "      print(\"*\",end=\" \")\n",
        "    for j in range(n):\n",
        "      if i==1:\n",
        "        print(\"e\",end=\" \")\n",
        "      else:\n",
        "        print(\" \",end=\" \")\n",
        "    for j in range(n):\n",
        "      print(\"*\",end=\" \")\n",
        "    for j in range(n):\n",
        "      if i==1:\n",
        "        print(\"e\",end=\" \")\n",
        "      else:\n",
        "        print(\" \",end=\" \")\n",
        "    for j in range(n//2-i+2):\n",
        "      print(\"*\",end=\" \")\n",
        "    print( )\n",
        "  for i in range(n//2,0,-1):\n",
        "    for j in range(n//2-i+1):\n",
        "      print(\" \",end=\" \")\n",
        "    for j in range(i):\n",
        "      print(\"*\",end=\" \")\n",
        "    for j in range(n):\n",
        "      print(' ',end=\" \")\n",
        "    for j in range(n):\n",
        "      print('*',end=\" \")\n",
        "    for j in range(n):\n",
        "      print(' ',end=\" \")\n",
        "    for j in range(i):\n",
        "      print(\"*\",end=\" \")\n",
        "    print()\n",
        "\n",
        "Pattern(3)"
      ]
    },
    {
      "cell_type": "code",
      "source": [
        "Pattern(5)"
      ],
      "metadata": {
        "colab": {
          "base_uri": "https://localhost:8080/"
        },
        "id": "aBTb8LRWxvCn",
        "outputId": "f00fe56a-86a0-4a3e-9263-bd774437895d"
      },
      "execution_count": 18,
      "outputs": [
        {
          "output_type": "stream",
          "name": "stdout",
          "text": [
            "    *           * * * * *           * \n",
            "  * *           * * * * *           * * \n",
            "* * * e e e e e * * * * * e e e e e * * * \n",
            "  * *           * * * * *           * * \n",
            "    *           * * * * *           * \n"
          ]
        }
      ]
    },
    {
      "cell_type": "code",
      "source": [
        "Pattern(7)"
      ],
      "metadata": {
        "colab": {
          "base_uri": "https://localhost:8080/"
        },
        "id": "IkJFO5stxvO2",
        "outputId": "fffca4e8-8470-4e53-f2f5-8cb8bdf4b933"
      },
      "execution_count": 19,
      "outputs": [
        {
          "output_type": "stream",
          "name": "stdout",
          "text": [
            "      *               * * * * * * *               * \n",
            "    * *               * * * * * * *               * * \n",
            "  * * *               * * * * * * *               * * * \n",
            "* * * * e e e e e e e * * * * * * * e e e e e e e * * * * \n",
            "  * * *               * * * * * * *               * * * \n",
            "    * *               * * * * * * *               * * \n",
            "      *               * * * * * * *               * \n"
          ]
        }
      ]
    },
    {
      "cell_type": "code",
      "source": [],
      "metadata": {
        "id": "JEJ-8HDkxvbA"
      },
      "execution_count": null,
      "outputs": []
    }
  ]
}